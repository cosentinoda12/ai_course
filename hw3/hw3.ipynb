{
  "nbformat": 4,
  "nbformat_minor": 0,
  "metadata": {
    "colab": {
      "name": "hw3.ipynb",
      "provenance": [],
      "collapsed_sections": []
    },
    "kernelspec": {
      "name": "python3",
      "display_name": "Python 3"
    },
    "accelerator": "GPU"
  },
  "cells": [
    {
      "cell_type": "code",
      "metadata": {
        "id": "jfibxkeVtoZO",
        "colab_type": "code",
        "outputId": "9da2e52e-b183-4df1-f776-619042ba5231",
        "colab": {
          "base_uri": "https://localhost:8080/",
          "height": 121
        }
      },
      "source": [
        "from google.colab import drive\n",
        "drive.mount('/content/drive', force_remount=True)"
      ],
      "execution_count": 0,
      "outputs": [
        {
          "output_type": "stream",
          "text": [
            "Go to this URL in a browser: https://accounts.google.com/o/oauth2/auth?client_id=947318989803-6bn6qk8qdgf4n4g3pfee6491hc0brc4i.apps.googleusercontent.com&redirect_uri=urn%3aietf%3awg%3aoauth%3a2.0%3aoob&response_type=code&scope=email%20https%3a%2f%2fwww.googleapis.com%2fauth%2fdocs.test%20https%3a%2f%2fwww.googleapis.com%2fauth%2fdrive%20https%3a%2f%2fwww.googleapis.com%2fauth%2fdrive.photos.readonly%20https%3a%2f%2fwww.googleapis.com%2fauth%2fpeopleapi.readonly\n",
            "\n",
            "Enter your authorization code:\n",
            "··········\n",
            "Mounted at /content/drive\n"
          ],
          "name": "stdout"
        }
      ]
    },
    {
      "cell_type": "code",
      "metadata": {
        "id": "NKp7ggcgxCPS",
        "colab_type": "code",
        "colab": {}
      },
      "source": [
        "!rm -rf /content/HW3\n",
        "!mkdir -p /content/HW3\n",
        "!mkdir -p /content/HW3/data\n",
        "!cp \"/content/drive/My Drive/HW3/RuTanks7000_v1/train.zip\" /content/HW3/data\n",
        "!cp \"/content/drive/My Drive/HW3/RuTanks7000_v1/test.zip\" /content/HW3/data\n",
        "!unzip -q /content/HW3/data/train.zip -d /content/HW3/data/\n",
        "!unzip -q /content/HW3/data/test.zip -d /content/HW3/data/"
      ],
      "execution_count": 0,
      "outputs": []
    },
    {
      "cell_type": "code",
      "metadata": {
        "colab_type": "code",
        "outputId": "fdf3cc7a-14fb-419e-e3be-32ee7eaa8709",
        "id": "WLm9Q_pYl6s8",
        "colab": {
          "base_uri": "https://localhost:8080/",
          "height": 34
        }
      },
      "source": [
        "!ls /content/HW3/data/"
      ],
      "execution_count": 0,
      "outputs": [
        {
          "output_type": "stream",
          "text": [
            "__MACOSX  test\ttest.zip  train  train.zip\n"
          ],
          "name": "stdout"
        }
      ]
    },
    {
      "cell_type": "code",
      "metadata": {
        "id": "2DgLk0hLl7bp",
        "colab_type": "code",
        "colab": {}
      },
      "source": [
        "!mkdir -p /content/HW3/trained_models/trained_weights/"
      ],
      "execution_count": 0,
      "outputs": []
    },
    {
      "cell_type": "code",
      "metadata": {
        "id": "XqqcqS36maTR",
        "colab_type": "code",
        "colab": {}
      },
      "source": [
        "!mkdir -p /content/HW3/logs/"
      ],
      "execution_count": 0,
      "outputs": []
    },
    {
      "cell_type": "code",
      "metadata": {
        "id": "vhdyyVAxnHxf",
        "colab_type": "code",
        "outputId": "8245e65c-da3e-4f7c-da78-9da958a525e6",
        "colab": {
          "base_uri": "https://localhost:8080/",
          "height": 34
        }
      },
      "source": [
        "!ls /content/HW3/"
      ],
      "execution_count": 0,
      "outputs": [
        {
          "output_type": "stream",
          "text": [
            "data  logs  trained_models\n"
          ],
          "name": "stdout"
        }
      ]
    },
    {
      "cell_type": "markdown",
      "metadata": {
        "id": "IkEWsZwQuVDv",
        "colab_type": "text"
      },
      "source": [
        "Code from https://github.com/UgurUysal86/MLS4MIL/blob/master/Image%20Classification/code/RuTanks_train.py"
      ]
    },
    {
      "cell_type": "code",
      "metadata": {
        "id": "FqNJsDp1uHnR",
        "colab_type": "code",
        "outputId": "c4d464ee-fc0d-498a-ad4e-60acd84e635d",
        "colab": {
          "base_uri": "https://localhost:8080/",
          "height": 79
        }
      },
      "source": [
        "import os\n",
        "from keras.applications import NASNetLarge\n",
        "from keras import models, layers, optimizers, backend\n",
        "from keras.models import load_model\n",
        "from keras.preprocessing.image import ImageDataGenerator\n",
        "from keras.callbacks import ModelCheckpoint, ReduceLROnPlateau, TensorBoard\n",
        "import matplotlib.pyplot as plt\n",
        "import numpy as np\n",
        "from timeit import default_timer as timer"
      ],
      "execution_count": 0,
      "outputs": [
        {
          "output_type": "stream",
          "text": [
            "Using TensorFlow backend.\n"
          ],
          "name": "stderr"
        },
        {
          "output_type": "display_data",
          "data": {
            "text/html": [
              "<p style=\"color: red;\">\n",
              "The default version of TensorFlow in Colab will soon switch to TensorFlow 2.x.<br>\n",
              "We recommend you <a href=\"https://www.tensorflow.org/guide/migrate\" target=\"_blank\">upgrade</a> now \n",
              "or ensure your notebook will continue to use TensorFlow 1.x via the <code>%tensorflow_version 1.x</code> magic:\n",
              "<a href=\"https://colab.research.google.com/notebooks/tensorflow_version.ipynb\" target=\"_blank\">more info</a>.</p>\n"
            ],
            "text/plain": [
              "<IPython.core.display.HTML object>"
            ]
          },
          "metadata": {
            "tags": []
          }
        }
      ]
    },
    {
      "cell_type": "code",
      "metadata": {
        "id": "InGEtwA9uH65",
        "colab_type": "code",
        "colab": {}
      },
      "source": [
        "def main():\n",
        "    start = timer()\n",
        "    level1()  # Training the classifier only\n",
        "    level2()  # Training the pretrained model + the trained classifier from level 1\n",
        "    end = timer()\n",
        "    print(\"Time elapsed in minutes: \", ((end - start)/60))"
      ],
      "execution_count": 0,
      "outputs": []
    },
    {
      "cell_type": "code",
      "metadata": {
        "id": "dyzqPNg4uNv2",
        "colab_type": "code",
        "colab": {}
      },
      "source": [
        "# Setting Parameters ##################################################################\n",
        "# image settings\n",
        "img_height,img_width = 331, 331  # For NASNetLarge"
      ],
      "execution_count": 0,
      "outputs": []
    },
    {
      "cell_type": "code",
      "metadata": {
        "id": "d00O-XAWubFI",
        "colab_type": "code",
        "colab": {}
      },
      "source": [
        "# classes\n",
        "classnames = [\"Background\", \"BMP2\", \"Buk-M1-2\", \"T14\", \"T90\", \"ZSU23\"]\n",
        "classes = len(classnames)"
      ],
      "execution_count": 0,
      "outputs": []
    },
    {
      "cell_type": "code",
      "metadata": {
        "id": "UGhOkdqNudcE",
        "colab_type": "code",
        "colab": {}
      },
      "source": [
        "# path settings\n",
        "path = '/content/HW3/'\n",
        "dataset_path = path+'data/'\n",
        "weights_path = path+'trained_models\\trained_weights\\weights_temp.h5'\n",
        "model_path = path+'trained_models\\RuTanks7000_v1_'\n",
        "TensorBoardLogDir = path+'logs'"
      ],
      "execution_count": 0,
      "outputs": []
    },
    {
      "cell_type": "code",
      "metadata": {
        "id": "VPIuMx69ugdp",
        "colab_type": "code",
        "colab": {}
      },
      "source": [
        "nbrTrainImages = 7000  # per class\n",
        "nbrTestImages = 0  # Value gets accurate after counting (Total Number of test images)\n",
        "for ImagesClass in os.listdir(dataset_path+'test/'):\n",
        "    if ImagesClass=='.DS_Store':\n",
        "      continue\n",
        "    nbrTestImages += len(os.listdir(dataset_path+'test/'+ImagesClass))"
      ],
      "execution_count": 0,
      "outputs": []
    },
    {
      "cell_type": "code",
      "metadata": {
        "id": "-uE5EhcguhIu",
        "colab_type": "code",
        "colab": {}
      },
      "source": [
        "# unfreezing the base network up to a specific layer in Level2:\n",
        "freezeUptoLayer = \"normal_add_1_15\"   # NASNetLarge"
      ],
      "execution_count": 0,
      "outputs": []
    },
    {
      "cell_type": "code",
      "metadata": {
        "id": "vrqY7NGquhQz",
        "colab_type": "code",
        "colab": {}
      },
      "source": [
        "# hyperparameters\n",
        "learning_rate = 0.0002  # Learning_rate in Level 2 = learning_rate/10\n",
        "lr_decay = 0.0001\n",
        "batch = 64\n",
        "fcLayer1 = 32\n",
        "dropout = 0.5"
      ],
      "execution_count": 0,
      "outputs": []
    },
    {
      "cell_type": "code",
      "metadata": {
        "id": "YqTvL5euuhX6",
        "colab_type": "code",
        "colab": {}
      },
      "source": [
        "epochsL1 = 10\n",
        "patiencel1 = 1\n",
        "factorL1 = 0.5"
      ],
      "execution_count": 0,
      "outputs": []
    },
    {
      "cell_type": "code",
      "metadata": {
        "id": "VN8NJq9Luhgi",
        "colab_type": "code",
        "colab": {}
      },
      "source": [
        "epochsL2 = 10\n",
        "patiencel2 = 1\n",
        "factorL2 = 0.5"
      ],
      "execution_count": 0,
      "outputs": []
    },
    {
      "cell_type": "code",
      "metadata": {
        "id": "U46JU6LJup0X",
        "colab_type": "code",
        "colab": {}
      },
      "source": [
        "verbose_train = 1"
      ],
      "execution_count": 0,
      "outputs": []
    },
    {
      "cell_type": "code",
      "metadata": {
        "id": "HhRp0aqPup80",
        "colab_type": "code",
        "colab": {}
      },
      "source": [
        "# datagenerators https://keras.io/preprocessing/image/\n",
        "train_datagen = ImageDataGenerator(\n",
        "    rescale=1./255,\n",
        "    rotation_range=30,\n",
        "    width_shift_range=0.2,\n",
        "    height_shift_range=0.2,\n",
        "    shear_range=0.2,\n",
        "    zoom_range=0.2,\n",
        "    fill_mode='nearest',\n",
        "    horizontal_flip=True)"
      ],
      "execution_count": 0,
      "outputs": []
    },
    {
      "cell_type": "code",
      "metadata": {
        "id": "cZvenAJouqE8",
        "colab_type": "code",
        "outputId": "ba5c710d-6379-47c4-e14e-3ae5e7f40d2d",
        "colab": {
          "base_uri": "https://localhost:8080/",
          "height": 34
        }
      },
      "source": [
        "train_generator = train_datagen.flow_from_directory(\n",
        "    dataset_path+'train',\n",
        "    target_size=(img_height, img_width),\n",
        "    batch_size=batch,\n",
        "    shuffle=True,\n",
        "    classes=classnames,\n",
        "    class_mode='categorical')"
      ],
      "execution_count": 0,
      "outputs": [
        {
          "output_type": "stream",
          "text": [
            "Found 42000 images belonging to 6 classes.\n"
          ],
          "name": "stdout"
        }
      ]
    },
    {
      "cell_type": "code",
      "metadata": {
        "id": "mk5GdWNCuqK2",
        "colab_type": "code",
        "colab": {}
      },
      "source": [
        "test_datagen = ImageDataGenerator(rescale=1./255)"
      ],
      "execution_count": 0,
      "outputs": []
    },
    {
      "cell_type": "code",
      "metadata": {
        "id": "KpOLP1B2uqRr",
        "colab_type": "code",
        "outputId": "04969a63-7fa2-45b9-fe1b-11f63f6cc5b9",
        "colab": {
          "base_uri": "https://localhost:8080/",
          "height": 34
        }
      },
      "source": [
        "test_generator = test_datagen.flow_from_directory(\n",
        "    dataset_path+'test',\n",
        "    target_size=(img_height, img_width),\n",
        "    batch_size=1,\n",
        "    shuffle=True,\n",
        "    classes=classnames,\n",
        "    class_mode='categorical')"
      ],
      "execution_count": 0,
      "outputs": [
        {
          "output_type": "stream",
          "text": [
            "Found 90 images belonging to 6 classes.\n"
          ],
          "name": "stdout"
        }
      ]
    },
    {
      "cell_type": "code",
      "metadata": {
        "id": "kuEIY9sluqYZ",
        "colab_type": "code",
        "colab": {}
      },
      "source": [
        "# function to plot results of model performance\n",
        "def plot(h,t,e):\n",
        "    history_dict = h[0]\n",
        "    loss_values = history_dict['loss']\n",
        "    validation_loss_values = history_dict['val_loss']\n",
        "    acc_values = history_dict['acc']\n",
        "    validation_acc_values = history_dict['val_acc']\n",
        "    epochs_range = range(1, e + 1)\n",
        "\n",
        "    # Plotting Training and Validation loss of the corresponding Model\n",
        "    plt.plot(epochs_range, loss_values, 'bo', label='Training loss')\n",
        "    plt.plot(epochs_range, validation_loss_values, 'ro', label='Validation loss')\n",
        "    plt.title('Training and validation loss of ' + t)\n",
        "    plt.xlabel('Epochs')\n",
        "    plt.ylabel('Loss')\n",
        "    plt.yticks(np.arange(0, 3.1, step=0.2))\n",
        "    plt.legend()\n",
        "    plt.show()\n",
        "\n",
        "    # Plotting Training and Validation accuracy of the corresponding Model\n",
        "    plt.plot(epochs_range, acc_values, 'bo', label='Training accuracy')\n",
        "    plt.plot(epochs_range, validation_acc_values, 'ro', label='Validation accuracy')\n",
        "    plt.title('Training and validation accuracy of ' + t)\n",
        "    plt.xlabel('Epochs')\n",
        "    plt.ylabel('Accuracy')\n",
        "    plt.yticks(np.arange(0.3, 1.1, step=0.1))\n",
        "    plt.legend()\n",
        "    plt.show()\n"
      ],
      "execution_count": 0,
      "outputs": []
    },
    {
      "cell_type": "code",
      "metadata": {
        "id": "EFDUJtKMu-2R",
        "colab_type": "code",
        "colab": {}
      },
      "source": [
        "# LEVEL1 - Training of densely connected layers\n",
        "def level1():\n",
        "    # Building the model using the pretrained model\n",
        "    conv_base1 = NASNetLarge(weights='imagenet', include_top=False, input_shape=(img_height, img_width, 3))\n",
        "    print(\"\\n### LEVEL1 ###\\npretrained network:\")\n",
        "    conv_base1.summary()\n",
        "    model = models.Sequential()\n",
        "    model.add(conv_base1)\n",
        "    model.add(layers.GlobalAveragePooling2D())\n",
        "    model.add(layers.Dense(fcLayer1, activation='relu'))\n",
        "    model.add(layers.Dropout(dropout))\n",
        "    model.add(layers.Dense(classes, activation='softmax'))\n",
        "\n",
        "    # freezing the base network\n",
        "    print(\"trainable layers bevor freezing:\", int(len(model.trainable_weights)/2)) # weights = weights + bias = 2 pro layer\n",
        "    conv_base1.trainable = False\n",
        "    print(\"trainable layers after freezing:\", int(len(model.trainable_weights)/2))\n",
        "    print(\"\\npretrained network + densely connected classifier\")\n",
        "    model.summary()\n",
        "\n",
        "    # training the added layers only\n",
        "    model.compile(loss='categorical_crossentropy', optimizer=optimizers.RMSprop(lr=learning_rate, decay=lr_decay), metrics=['acc'])\n",
        "\n",
        "    callbacks_list_L1 = [ModelCheckpoint(filepath=weights_path, save_weights_only=True, monitor='val_acc', verbose=1, save_best_only=True),\n",
        "                      ReduceLROnPlateau(monitor='val_acc', factor=factorL1, patience=patiencel1, verbose=1),\n",
        "                      TensorBoard(log_dir=TensorBoardLogDir+'\\\\level1')]\n",
        "\n",
        "    print(\"\\n### Level1 Training ... \")\n",
        "    # training the model\n",
        "    history = model.fit_generator(\n",
        "        train_generator,\n",
        "        steps_per_epoch=(nbrTrainImages * classes) // (batch*5),\n",
        "        epochs=epochsL1,\n",
        "        callbacks=callbacks_list_L1,\n",
        "        validation_data=test_generator,\n",
        "        validation_steps=nbrTestImages,\n",
        "        verbose=verbose_train)\n",
        "\n",
        "    history_val1 = [history.history]  # saving all results of the final test\n",
        "    plot(history_val1, \"LEVEL1:\", epochsL1)\n",
        "    print(\"\\n### LEVEL1 Training finished successfully ###\")\n",
        "\n",
        "    print(\"\\nLoading trained weights from \" + weights_path + \" ...\")\n",
        "    model.load_weights(weights_path)\n",
        "    model.compile(loss='categorical_crossentropy', optimizer=optimizers.RMSprop(lr=learning_rate), metrics=['acc'])\n",
        "    print(\"\\n### Saving Level1 Model to \", model_path+'l1.h5', \" ... \")\n",
        "    model.save(model_path+'l1.h5')\n"
      ],
      "execution_count": 0,
      "outputs": []
    },
    {
      "cell_type": "code",
      "metadata": {
        "id": "0_SxIWaZu-8o",
        "colab_type": "code",
        "colab": {}
      },
      "source": [
        "# LEVEL2 - Training pretrained network and trained densely connected layers\n",
        "def level2():\n",
        "    # Destroying the current TF graph - https://keras.io/backend/\n",
        "    backend.clear_session()\n",
        "    print(\"\\n### LEVEL2 ###\")\n",
        "    conv_base2 = NASNetLarge(weights='imagenet', include_top=False, input_shape=(img_height, img_width, 3))\n",
        "    model2 = models.Sequential()\n",
        "    model2.add(conv_base2)\n",
        "    model2.add(layers.GlobalAveragePooling2D())\n",
        "    model2.add(layers.Dense(fcLayer1, activation='relu'))\n",
        "    model2.add(layers.Dropout(dropout))\n",
        "    model2.add(layers.Dense(classes, activation='softmax'))\n",
        "\n",
        "    print(\"\\nLoading trained weights from \" + weights_path + \" ...\")\n",
        "    model2.load_weights(weights_path)\n",
        "\n",
        "    # unfreezing the base network up to a specific layer:\n",
        "    if freezeUptoLayer == \"\":\n",
        "        conv_base2.trainable = True\n",
        "        print (\"\\ntrainable layers: \",int(len(model2.trainable_weights) / 2))\n",
        "    else:\n",
        "        print(\"\\ntrainable layers before unfreezing the base network up to \" + freezeUptoLayer + \": \",int(len(model2.trainable_weights) / 2))  # weights = weights + bias = 2 pro layer\n",
        "        conv_base2.trainable = True\n",
        "        set_trainable = False\n",
        "        for layer in conv_base2.layers:\n",
        "            if layer.name == freezeUptoLayer: set_trainable = True\n",
        "            if set_trainable: layer.trainable = True\n",
        "            else: layer.trainable = False\n",
        "        print(\"trainable layers after the base network unfreezed from layer \" + freezeUptoLayer + \": \", int(len(model2.trainable_weights)/2))\n",
        "\n",
        "    print(\"\\nLEVEL2 Model after unfreezing the base network\")\n",
        "    model2.summary()\n",
        "    model2.compile(loss='categorical_crossentropy', optimizer=optimizers.RMSprop(lr=learning_rate/10, decay=lr_decay), metrics=['acc'])\n",
        "    print (\"\\n### Validating ... \")\n",
        "\n",
        "    val_loss, val_acc = model2.evaluate_generator(test_generator, steps=nbrTestImages, verbose=0)\n",
        "    print('Validation Results before training unfreeze layers and trained densely connected layers:\\nValidation loss:',val_loss,\",\",'Validation accuracy:', val_acc, \"\\n\")\n",
        "\n",
        "    # Jointly training both the unfreeze layers and the added trained densely connected layers\n",
        "    callbacks_list_L2 = [ModelCheckpoint(filepath=model_path+'l2.h5', save_weights_only=False, monitor='val_acc', verbose=1, save_best_only=True),\n",
        "                      ReduceLROnPlateau(monitor='val_acc', factor=factorL2, patience=patiencel2, verbose=1),\n",
        "                      TensorBoard(log_dir=TensorBoardLogDir+'\\\\level2')]\n",
        "\n",
        "    print (\"\\n### Level2 Training ... \")\n",
        "    history = model2.fit_generator(\n",
        "        train_generator,\n",
        "        steps_per_epoch=(nbrTrainImages * classes) // (batch*5),\n",
        "        epochs=epochsL2,\n",
        "        callbacks=callbacks_list_L2,\n",
        "        validation_data=test_generator,\n",
        "        validation_steps=nbrTestImages,\n",
        "        verbose=verbose_train)\n",
        "\n",
        "    history_val2 = [history.history]  # saving all results of the final test\n",
        "    plot(history_val2, \"LEVEL2:\", epochsL2)\n",
        "    print(\"\\n###LEVEL2 Training finished successfully ###\")\n"
      ],
      "execution_count": 0,
      "outputs": []
    },
    {
      "cell_type": "code",
      "metadata": {
        "id": "XOJTi8HOu_Dk",
        "colab_type": "code",
        "outputId": "d5aa2697-d647-4924-bd2c-c29f03efbd23",
        "colab": {
          "base_uri": "https://localhost:8080/",
          "height": 1000
        }
      },
      "source": [
        "main()"
      ],
      "execution_count": 0,
      "outputs": [
        {
          "output_type": "stream",
          "text": [
            "131/131 [==============================] - 217s 2s/step - loss: 0.7229 - acc: 0.7618 - val_loss: 1.0853 - val_acc: 0.5444\n",
            "\n",
            "Epoch 00006: val_acc did not improve from 0.63333\n",
            "\n",
            "Epoch 00006: ReduceLROnPlateau reducing learning rate to 6.24999984211172e-06.\n",
            "Epoch 7/10\n",
            "131/131 [==============================] - 215s 2s/step - loss: 0.7183 - acc: 0.7592 - val_loss: 1.0841 - val_acc: 0.5444\n",
            "\n",
            "Epoch 00007: val_acc did not improve from 0.63333\n",
            "\n",
            "Epoch 00007: ReduceLROnPlateau reducing learning rate to 3.12499992105586e-06.\n",
            "Epoch 8/10\n",
            "131/131 [==============================] - 213s 2s/step - loss: 0.7114 - acc: 0.7576 - val_loss: 1.0837 - val_acc: 0.5444\n",
            "\n",
            "Epoch 00008: val_acc did not improve from 0.63333\n",
            "\n",
            "Epoch 00008: ReduceLROnPlateau reducing learning rate to 1.56249996052793e-06.\n",
            "Epoch 9/10\n",
            "131/131 [==============================] - 212s 2s/step - loss: 0.7267 - acc: 0.7601 - val_loss: 1.0823 - val_acc: 0.5444\n",
            "\n",
            "Epoch 00009: val_acc did not improve from 0.63333\n",
            "\n",
            "Epoch 00009: ReduceLROnPlateau reducing learning rate to 7.81249980263965e-07.\n",
            "Epoch 10/10\n",
            "131/131 [==============================] - 215s 2s/step - loss: 0.7010 - acc: 0.7693 - val_loss: 1.0820 - val_acc: 0.5444\n",
            "\n",
            "Epoch 00010: val_acc did not improve from 0.63333\n",
            "\n",
            "Epoch 00010: ReduceLROnPlateau reducing learning rate to 3.906249901319825e-07.\n"
          ],
          "name": "stdout"
        },
        {
          "output_type": "display_data",
          "data": {
            "image/png": "[encoded data removed]",
            "text/plain": [
              "<Figure size 432x288 with 1 Axes>"
            ]
          },
          "metadata": {
            "tags": []
          }
        },
        {
          "output_type": "display_data",
          "data": {
            "image/png": "[encoded data removed]",
            "text/plain": [
              "<Figure size 432x288 with 1 Axes>"
            ]
          },
          "metadata": {
            "tags": []
          }
        },
        {
          "output_type": "stream",
          "text": [
            "\n",
            "### LEVEL1 Training finished successfully ###\n",
            "\n",
            "Loading trained weights from /content/HW3/trained_models\trained_weights\\weights_temp.h5 ...\n",
            "\n",
            "### Saving Level1 Model to  /content/HW3/trained_models\\RuTanks7000_v1_l1.h5  ... \n",
            "WARNING:tensorflow:From /usr/local/lib/python3.6/dist-packages/keras/backend/tensorflow_backend.py:107: The name tf.reset_default_graph is deprecated. Please use tf.compat.v1.reset_default_graph instead.\n",
            "\n",
            "\n",
            "### LEVEL2 ###\n",
            "\n",
            "Loading trained weights from /content/HW3/trained_models\trained_weights\\weights_temp.h5 ...\n",
            "\n",
            "trainable layers before unfreezing the base network up to normal_add_1_15:  510\n",
            "trainable layers after the base network unfreezed from layer normal_add_1_15:  71\n",
            "\n",
            "LEVEL2 Model after unfreezing the base network\n",
            "Model: \"sequential_1\"\n",
            "_________________________________________________________________\n",
            "Layer (type)                 Output Shape              Param #   \n",
            "=================================================================\n",
            "NASNet (Model)               (None, 11, 11, 4032)      84916818  \n",
            "_________________________________________________________________\n",
            "global_average_pooling2d_1 ( (None, 4032)              0         \n",
            "_________________________________________________________________\n",
            "dense_1 (Dense)              (None, 32)                129056    \n",
            "_________________________________________________________________\n",
            "dropout_1 (Dropout)          (None, 32)                0         \n",
            "_________________________________________________________________\n",
            "dense_2 (Dense)              (None, 6)                 198       \n",
            "=================================================================\n",
            "Total params: 85,046,072\n",
            "Trainable params: 30,292,646\n",
            "Non-trainable params: 54,753,426\n",
            "_________________________________________________________________\n",
            "\n",
            "### Validating ... \n",
            "Validation Results before training unfreeze layers and trained densely connected layers:\n",
            "Validation loss: 1.2855645053916507 , Validation accuracy: 0.6333333333333333 \n",
            "\n",
            "\n",
            "### Level2 Training ... \n",
            "Epoch 1/10\n",
            "131/131 [==============================] - 268s 2s/step - loss: 0.7094 - acc: 0.7592 - val_loss: 0.8415 - val_acc: 0.7444\n",
            "\n",
            "Epoch 00001: val_acc improved from -inf to 0.74444, saving model to /content/HW3/trained_models\\RuTanks7000_v1_l2.h5\n",
            "Epoch 2/10\n",
            "131/131 [==============================] - 244s 2s/step - loss: 0.4113 - acc: 0.8646 - val_loss: 0.7663 - val_acc: 0.8111\n",
            "\n",
            "Epoch 00002: val_acc improved from 0.74444 to 0.81111, saving model to /content/HW3/trained_models\\RuTanks7000_v1_l2.h5\n",
            "Epoch 3/10\n",
            "131/131 [==============================] - 248s 2s/step - loss: 0.2800 - acc: 0.9127 - val_loss: 0.6869 - val_acc: 0.8444\n",
            "\n",
            "Epoch 00003: val_acc improved from 0.81111 to 0.84444, saving model to /content/HW3/trained_models\\RuTanks7000_v1_l2.h5\n",
            "Epoch 4/10\n",
            "131/131 [==============================] - 251s 2s/step - loss: 0.2129 - acc: 0.9318 - val_loss: 0.6201 - val_acc: 0.8333\n",
            "\n",
            "Epoch 00004: val_acc did not improve from 0.84444\n",
            "\n",
            "Epoch 00004: ReduceLROnPlateau reducing learning rate to 9.999999747378752e-06.\n",
            "Epoch 5/10\n",
            "131/131 [==============================] - 249s 2s/step - loss: 0.1698 - acc: 0.9453 - val_loss: 0.7001 - val_acc: 0.8111\n",
            "\n",
            "Epoch 00005: val_acc did not improve from 0.84444\n",
            "\n",
            "Epoch 00005: ReduceLROnPlateau reducing learning rate to 4.999999873689376e-06.\n",
            "Epoch 6/10\n",
            "131/131 [==============================] - 254s 2s/step - loss: 0.1528 - acc: 0.9536 - val_loss: 0.6545 - val_acc: 0.8333\n",
            "\n",
            "Epoch 00006: val_acc did not improve from 0.84444\n",
            "\n",
            "Epoch 00006: ReduceLROnPlateau reducing learning rate to 2.499999936844688e-06.\n",
            "Epoch 7/10\n",
            "131/131 [==============================] - 251s 2s/step - loss: 0.1570 - acc: 0.9499 - val_loss: 0.6490 - val_acc: 0.8222\n",
            "\n",
            "Epoch 00007: val_acc did not improve from 0.84444\n",
            "\n",
            "Epoch 00007: ReduceLROnPlateau reducing learning rate to 1.249999968422344e-06.\n",
            "Epoch 8/10\n",
            "131/131 [==============================] - 252s 2s/step - loss: 0.1402 - acc: 0.9538 - val_loss: 0.6367 - val_acc: 0.8222\n",
            "\n",
            "Epoch 00008: val_acc did not improve from 0.84444\n",
            "\n",
            "Epoch 00008: ReduceLROnPlateau reducing learning rate to 6.24999984211172e-07.\n",
            "Epoch 9/10\n",
            "131/131 [==============================] - 250s 2s/step - loss: 0.1464 - acc: 0.9504 - val_loss: 0.6355 - val_acc: 0.8222\n",
            "\n",
            "Epoch 00009: val_acc did not improve from 0.84444\n",
            "\n",
            "Epoch 00009: ReduceLROnPlateau reducing learning rate to 3.12499992105586e-07.\n",
            "Epoch 10/10\n",
            "131/131 [==============================] - 251s 2s/step - loss: 0.1597 - acc: 0.9499 - val_loss: 0.6340 - val_acc: 0.8222\n",
            "\n",
            "Epoch 00010: val_acc did not improve from 0.84444\n",
            "\n",
            "Epoch 00010: ReduceLROnPlateau reducing learning rate to 1.56249996052793e-07.\n"
          ],
          "name": "stdout"
        },
        {
          "output_type": "display_data",
          "data": {
            "image/png": "[encoded data removed]",
            "text/plain": [
              "<Figure size 432x288 with 1 Axes>"
            ]
          },
          "metadata": {
            "tags": []
          }
        },
        {
          "output_type": "display_data",
          "data": {
            "image/png": "[encoded data removed]",
            "text/plain": [
              "<Figure size 432x288 with 1 Axes>"
            ]
          },
          "metadata": {
            "tags": []
          }
        },
        {
          "output_type": "stream",
          "text": [
            "\n",
            "###LEVEL2 Training finished successfully ###\n",
            "Time elapsed in minutes:  81.38346727988333\n"
          ],
          "name": "stdout"
        }
      ]
    },
    {
      "cell_type": "code",
      "metadata": {
        "id": "6oHL-tbxu_KQ",
        "colab_type": "code",
        "colab": {}
      },
      "source": [
        ""
      ],
      "execution_count": 0,
      "outputs": []
    }
  ]
}