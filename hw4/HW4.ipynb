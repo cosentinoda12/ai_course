{
  "nbformat": 4,
  "nbformat_minor": 0,
  "metadata": {
    "colab": {
      "name": "HW4.ipynb",
      "provenance": [],
      "collapsed_sections": []
    },
    "kernelspec": {
      "name": "python3",
      "display_name": "Python 3"
    },
    "accelerator": "GPU"
  },
  "cells": [
    {
      "cell_type": "markdown",
      "metadata": {
        "id": "PYWYGv-ykXKT",
        "colab_type": "text"
      },
      "source": [
        "#General Concepts"
      ]
    },
    {
      "cell_type": "markdown",
      "metadata": {
        "id": "Z_qsQvLpkre-",
        "colab_type": "text"
      },
      "source": [
        "Artificial intelligence is the field of creating computer systems to be able to perform intelligent human behavior.\n",
        "Machine Learning is a subset of AI that involves supervised, unsupervised, and reinforcement learning. It invovles the machine learning the correct or optimal solutions to a problem. \n",
        "Deep learning is a subset of machine learning where the models are large neural networks. \n"
      ]
    },
    {
      "cell_type": "markdown",
      "metadata": {
        "id": "MG4TgZc6m5Jb",
        "colab_type": "text"
      },
      "source": [
        "#Building a Model"
      ]
    },
    {
      "cell_type": "markdown",
      "metadata": {
        "id": "VJU8J87FnHLU",
        "colab_type": "text"
      },
      "source": [
        "Convolutional neural network are models applied to computer vision problems. "
      ]
    },
    {
      "cell_type": "code",
      "metadata": {
        "id": "Vo08SofDkZed",
        "colab_type": "code",
        "colab": {
          "base_uri": "https://localhost:8080/",
          "height": 80
        },
        "outputId": "c1b2f9c6-29cc-4c48-ef68-dc6300e68561"
      },
      "source": [
        "import tensorflow as tf\n",
        "from tensorflow import keras\n",
        "from keras.datasets import cifar10\n",
        "import matplotlib.pyplot as plt"
      ],
      "execution_count": 1,
      "outputs": [
        {
          "output_type": "display_data",
          "data": {
            "text/html": [
              "<p style=\"color: red;\">\n",
              "The default version of TensorFlow in Colab will soon switch to TensorFlow 2.x.<br>\n",
              "We recommend you <a href=\"https://www.tensorflow.org/guide/migrate\" target=\"_blank\">upgrade</a> now \n",
              "or ensure your notebook will continue to use TensorFlow 1.x via the <code>%tensorflow_version 1.x</code> magic:\n",
              "<a href=\"https://colab.research.google.com/notebooks/tensorflow_version.ipynb\" target=\"_blank\">more info</a>.</p>\n"
            ],
            "text/plain": [
              "<IPython.core.display.HTML object>"
            ]
          },
          "metadata": {
            "tags": []
          }
        },
        {
          "output_type": "stream",
          "text": [
            "Using TensorFlow backend.\n"
          ],
          "name": "stderr"
        }
      ]
    },
    {
      "cell_type": "code",
      "metadata": {
        "id": "bmgnIXZpn_72",
        "colab_type": "code",
        "colab": {}
      },
      "source": [
        "(train_images, train_labels), (test_images, test_labels) = cifar10.load_data()\n",
        "tr_labels = keras.utils.to_categorical(train_labels)\n",
        "te_labels = keras.utils.to_categorical(test_labels)\n",
        "tr_images = train_images/255\n",
        "te_images = test_images/255"
      ],
      "execution_count": 0,
      "outputs": []
    },
    {
      "cell_type": "markdown",
      "metadata": {
        "id": "ewomZgewoTvw",
        "colab_type": "text"
      },
      "source": [
        "In Keras, you first have to initialize the model. Here we are initializing a sequential model."
      ]
    },
    {
      "cell_type": "code",
      "metadata": {
        "id": "wGPuH5YCoNY1",
        "colab_type": "code",
        "colab": {}
      },
      "source": [
        "model = keras.models.Sequential()"
      ],
      "execution_count": 0,
      "outputs": []
    },
    {
      "cell_type": "markdown",
      "metadata": {
        "id": "q0-ElCT5osjT",
        "colab_type": "text"
      },
      "source": [
        "ConvNets are built with multiple layers. The main layers of the ConvNet are the Convolutional Layers. The first convolutional layer is the input layer so you have to pass in the expected input shape. \n",
        "\n",
        "Convolutional layers take a kernel size and stride to determine how big the kernel is and how it will move along the input. You need to determine the number of output filters you want. Padding can be added to retain the spatial dimensions of the input. Activation functions are used in these layers to generally add some non-linearity to the model. ReLU is one of the more common activation functions. "
      ]
    },
    {
      "cell_type": "code",
      "metadata": {
        "id": "jmi6SW3Rorbs",
        "colab_type": "code",
        "colab": {}
      },
      "source": [
        "model.add(keras.layers.Conv2D(32, 3, padding='same', activation='relu', input_shape=(32, 32,3)))\n",
        "model.add(keras.layers.Conv2D(32, 3, padding='same', activation='relu'))"
      ],
      "execution_count": 0,
      "outputs": []
    },
    {
      "cell_type": "markdown",
      "metadata": {
        "id": "F_qAkM7BpJub",
        "colab_type": "text"
      },
      "source": [
        "With more convolutional layers, the number of filters generally increases while the size of the images stays the same if the padding is set to retain the spatial size of the input. This can lead to the networks getting too large in size. This is where max pooling comes in. Max pooling with a size of (2,2) will halve the spatial dimensions. "
      ]
    },
    {
      "cell_type": "code",
      "metadata": {
        "id": "MrlKnt4spIl7",
        "colab_type": "code",
        "colab": {}
      },
      "source": [
        "model.add(keras.layers.MaxPooling2D(pool_size=(2, 2)))"
      ],
      "execution_count": 0,
      "outputs": []
    },
    {
      "cell_type": "markdown",
      "metadata": {
        "id": "lwKVFSzQqMYj",
        "colab_type": "text"
      },
      "source": [
        "Conolutional neural networks are deep networks built with many layers. "
      ]
    },
    {
      "cell_type": "code",
      "metadata": {
        "id": "X3eLxPyEqTpN",
        "colab_type": "code",
        "colab": {}
      },
      "source": [
        "model.add(keras.layers.Conv2D(64, 3, padding='same', activation='relu'))\n",
        "model.add(keras.layers.Conv2D(64, 3, padding='same', activation='relu'))\n",
        "model.add(keras.layers.MaxPooling2D(pool_size=(2, 2)))\n",
        "\n",
        "model.add(keras.layers.Conv2D(128, 3, padding='same', activation='relu'))\n",
        "model.add(keras.layers.Conv2D(128, 3, padding='same', activation='relu'))\n",
        "model.add(keras.layers.MaxPooling2D(pool_size=(2, 2)))"
      ],
      "execution_count": 0,
      "outputs": []
    },
    {
      "cell_type": "markdown",
      "metadata": {
        "id": "oUXGwND8qb0U",
        "colab_type": "text"
      },
      "source": [
        "The output of convnets first needs to be flattened to a vector. "
      ]
    },
    {
      "cell_type": "code",
      "metadata": {
        "id": "abOrOmBTqZlt",
        "colab_type": "code",
        "colab": {}
      },
      "source": [
        "model.add(keras.layers.Flatten())"
      ],
      "execution_count": 0,
      "outputs": []
    },
    {
      "cell_type": "markdown",
      "metadata": {
        "id": "fGg_sECVqkbo",
        "colab_type": "text"
      },
      "source": [
        "Once flattened, dense layers, where each neuron receives all the previous input, are used. Like conv layers, an activation function is used."
      ]
    },
    {
      "cell_type": "code",
      "metadata": {
        "id": "K_VwMs5yqjoS",
        "colab_type": "code",
        "colab": {}
      },
      "source": [
        "model.add(keras.layers.Dense(1024, activation='relu'))\n",
        "model.add(keras.layers.Dense(512, activation='relu'))"
      ],
      "execution_count": 0,
      "outputs": []
    },
    {
      "cell_type": "markdown",
      "metadata": {
        "id": "lLzwig8rq8hY",
        "colab_type": "text"
      },
      "source": [
        "Dropout is applied to prevent overfitting. It means that a percentage of random neurons will be ignored. "
      ]
    },
    {
      "cell_type": "code",
      "metadata": {
        "id": "QELy5aRyq7Ef",
        "colab_type": "code",
        "colab": {}
      },
      "source": [
        "model.add(keras.layers.Dropout(0.2))"
      ],
      "execution_count": 0,
      "outputs": []
    },
    {
      "cell_type": "markdown",
      "metadata": {
        "id": "Pd2W5qIrrLHA",
        "colab_type": "text"
      },
      "source": [
        "Finally, you need the output layer. The output layer size should be the number classes you have for image classification. The activation function can vary depending on the problem. Generally, for classification of multiple classes, softmax is used."
      ]
    },
    {
      "cell_type": "code",
      "metadata": {
        "id": "zh6qxGvwrKZw",
        "colab_type": "code",
        "colab": {}
      },
      "source": [
        "model.add(keras.layers.Dense(10, activation='softmax'))"
      ],
      "execution_count": 0,
      "outputs": []
    },
    {
      "cell_type": "markdown",
      "metadata": {
        "id": "sbN2mqtts5UV",
        "colab_type": "text"
      },
      "source": [
        "#Compiling the Model"
      ]
    },
    {
      "cell_type": "markdown",
      "metadata": {
        "id": "vum3oNFitDKr",
        "colab_type": "text"
      },
      "source": [
        "Once the model is built, the next step is to compile the model. The first step is to determine the loss function. The type of loss function you use is dependent on the problem you are trying to solve. For this case, since we are doing image classification, the loss is categorical crossentropy. "
      ]
    },
    {
      "cell_type": "markdown",
      "metadata": {
        "id": "sh_XFsLZt5Mw",
        "colab_type": "text"
      },
      "source": [
        "The next step is to determine the optimizer you want to use. Optimizers are how the model will update the parameters of your network based on the loss. There are many optimizers that you can use, such as, stochastic gradient descent (SGD), Adam, and RMSProp. The most important parameter to set for optimizers is the learning rate. If you set the learning rate too high, the model may diverge. If you set it too low, the model will take a long time."
      ]
    },
    {
      "cell_type": "code",
      "metadata": {
        "id": "rF7ecyV1riR4",
        "colab_type": "code",
        "colab": {}
      },
      "source": [
        "model.compile(optimizer='adam',\n",
        "             loss='categorical_crossentropy',\n",
        "             metrics=['accuracy'])"
      ],
      "execution_count": 0,
      "outputs": []
    },
    {
      "cell_type": "markdown",
      "metadata": {
        "id": "DGolkHHtun4C",
        "colab_type": "text"
      },
      "source": [
        "#Training the Model"
      ]
    },
    {
      "cell_type": "markdown",
      "metadata": {
        "id": "PVrFrx0uuyjJ",
        "colab_type": "text"
      },
      "source": [
        "Once the model is compiled, the next step train the model to the training data. You can loop through the training data as many times as you want while training. One loop is called an epoch. After each epoch you test the current model on validation data to see if the model is improving after each epoch. "
      ]
    },
    {
      "cell_type": "code",
      "metadata": {
        "id": "biOG-BDIuOLO",
        "colab_type": "code",
        "colab": {}
      },
      "source": [
        "epochs = 10\n",
        "history = model.fit(tr_images, \n",
        "                      tr_labels, \n",
        "                      epochs=epochs,  \n",
        "                      validation_data=(te_images, te_labels))"
      ],
      "execution_count": 0,
      "outputs": []
    },
    {
      "cell_type": "markdown",
      "metadata": {
        "id": "ZIJ_BOBcvWnl",
        "colab_type": "text"
      },
      "source": [
        "You have to be careful though. If you train the model for too few epochs, or your model is too simple, you might underfit to the data, meaning that the model didn't learn the data. \n",
        "\n",
        "On the opposite side, if you train a model for too long, or your model is too complex, you can overfit the model. An overfitted model means that the model doesn't generalize well to new data."
      ]
    },
    {
      "cell_type": "markdown",
      "metadata": {
        "id": "-Zp1UTB_uqa0",
        "colab_type": "text"
      },
      "source": [
        "#Finetuning a Pretrained Model"
      ]
    },
    {
      "cell_type": "markdown",
      "metadata": {
        "id": "vcNmp7XDwhHH",
        "colab_type": "text"
      },
      "source": [
        "Training a neural network is time consuming task. To speed up the process it is common to take a network that has already been trained on data and finetune it to your specific data."
      ]
    },
    {
      "cell_type": "code",
      "metadata": {
        "id": "kcajotT-uulL",
        "colab_type": "code",
        "colab": {
          "base_uri": "https://localhost:8080/",
          "height": 88
        },
        "outputId": "55ebc499-2874-405d-c0f2-71b1e7053c44"
      },
      "source": [
        "vgg = keras.applications.vgg16.VGG16(weights='imagenet', include_top=False, input_shape=(32, 32, 3))"
      ],
      "execution_count": 19,
      "outputs": [
        {
          "output_type": "stream",
          "text": [
            "WARNING:tensorflow:From /usr/local/lib/python3.6/dist-packages/tensorflow_core/python/ops/resource_variable_ops.py:1630: calling BaseResourceVariable.__init__ (from tensorflow.python.ops.resource_variable_ops) with constraint is deprecated and will be removed in a future version.\n",
            "Instructions for updating:\n",
            "If using Keras pass *_constraint arguments to layers.\n"
          ],
          "name": "stdout"
        }
      ]
    },
    {
      "cell_type": "markdown",
      "metadata": {
        "id": "xs7LKQ6Wxx8G",
        "colab_type": "text"
      },
      "source": [
        "Here, we take a vgg16 network that has been trained on imagenet. Include top set to false means to only take the hidden layers up to before flattening the input. We will then freeze the layers of vgg16 so they cannot be updated. "
      ]
    },
    {
      "cell_type": "code",
      "metadata": {
        "id": "aoigqPy-xgy7",
        "colab_type": "code",
        "colab": {}
      },
      "source": [
        "for layer in vgg.layers:\n",
        "    layer.trainable = False"
      ],
      "execution_count": 0,
      "outputs": []
    },
    {
      "cell_type": "markdown",
      "metadata": {
        "id": "20bLk0qnyG5H",
        "colab_type": "text"
      },
      "source": [
        "Now you can add any new layers to the network and run the network."
      ]
    },
    {
      "cell_type": "code",
      "metadata": {
        "id": "zhti8NqWyFqI",
        "colab_type": "code",
        "colab": {}
      },
      "source": [
        "model = keras.models.Sequential()\n",
        "model.add(vgg)\n",
        "model.add(keras.layers.Flatten())\n",
        "model.add(keras.layers.Dense(512, activation='relu'))\n",
        "model.add(keras.layers.Dropout(0.5))\n",
        "model.add(keras.layers.Dense(10, activation='softmax'))"
      ],
      "execution_count": 0,
      "outputs": []
    },
    {
      "cell_type": "code",
      "metadata": {
        "id": "adYNCOZuyZwO",
        "colab_type": "code",
        "colab": {
          "base_uri": "https://localhost:8080/",
          "height": 323
        },
        "outputId": "2bd6f9e3-272c-41ca-a379-963f86caad52"
      },
      "source": [
        "model.summary()"
      ],
      "execution_count": 25,
      "outputs": [
        {
          "output_type": "stream",
          "text": [
            "Model: \"sequential_6\"\n",
            "_________________________________________________________________\n",
            "Layer (type)                 Output Shape              Param #   \n",
            "=================================================================\n",
            "vgg16 (Model)                (None, 1, 1, 512)         14714688  \n",
            "_________________________________________________________________\n",
            "flatten_2 (Flatten)          (None, 512)               0         \n",
            "_________________________________________________________________\n",
            "dense_5 (Dense)              (None, 512)               262656    \n",
            "_________________________________________________________________\n",
            "dropout_2 (Dropout)          (None, 512)               0         \n",
            "_________________________________________________________________\n",
            "dense_6 (Dense)              (None, 10)                5130      \n",
            "=================================================================\n",
            "Total params: 14,982,474\n",
            "Trainable params: 267,786\n",
            "Non-trainable params: 14,714,688\n",
            "_________________________________________________________________\n"
          ],
          "name": "stdout"
        }
      ]
    },
    {
      "cell_type": "code",
      "metadata": {
        "id": "TARxO9jJzLki",
        "colab_type": "code",
        "colab": {}
      },
      "source": [
        ""
      ],
      "execution_count": 0,
      "outputs": []
    }
  ]
}